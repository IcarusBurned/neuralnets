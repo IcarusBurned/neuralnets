{
 "cells": [
  {
   "cell_type": "code",
   "execution_count": 1,
   "metadata": {
    "collapsed": false,
    "deletable": true,
    "editable": true
   },
   "outputs": [],
   "source": [
    "import numpy as np\n",
    "from NeuralNetwork import NeuralNetwork\n",
    "from load_mnist import MNIST_Loader\n"
   ]
  },
  {
   "cell_type": "code",
   "execution_count": 2,
   "metadata": {
    "collapsed": false,
    "deletable": true,
    "editable": true
   },
   "outputs": [
    {
     "name": "stdout",
     "output_type": "stream",
     "text": [
      "(60000, 784)\n",
      "(10000, 784)\n",
      "(60000,)\n",
      "(10000,)\n"
     ]
    }
   ],
   "source": [
    "a = MNIST_Loader()\n",
    "X_train, y_train = a.load_mnist('./data')\n",
    "X_test, y_test = a.load_mnist('./data', 't10k')\n",
    "print X_train.shape\n",
    "print X_test.shape\n",
    "print y_train.shape\n",
    "print y_test.shape"
   ]
  },
  {
   "cell_type": "code",
   "execution_count": null,
   "metadata": {
    "collapsed": false,
    "deletable": true,
    "editable": true
   },
   "outputs": [
    {
     "name": "stdout",
     "output_type": "stream",
     "text": [
      "fitting\n",
      "Epoch: 50\n",
      "Loss: 1.34691231873\n",
      "Training Accuracy: 89.3116666667\n",
      "Epoch: 100\n",
      "Loss: 1.28873629268\n",
      "Training Accuracy: 89.5933333333\n",
      "Epoch: 150\n",
      "Loss: 1.38829705579\n",
      "Training Accuracy: 90.1333333333\n",
      "Epoch: 200\n",
      "Loss: 1.2379715161\n",
      "Training Accuracy: 90.2233333333\n",
      "Epoch: 250\n",
      "Loss: 1.17261919441\n",
      "Training Accuracy: 90.6166666667\n",
      "Epoch: 300\n",
      "Loss: 0.988871818237\n",
      "Training Accuracy: 91.3183333333\n",
      "Epoch: 350\n",
      "Loss: 1.01226717056\n",
      "Training Accuracy: 91.8533333333\n",
      "Epoch: 400\n",
      "Loss: 0.8110375416\n",
      "Training Accuracy: 92.0666666667\n",
      "Epoch: 450\n",
      "Loss: 0.772731735036\n",
      "Training Accuracy: 92.5883333333\n",
      "Epoch: 500\n",
      "Loss: 0.742682664491\n",
      "Training Accuracy: 93.2683333333\n",
      "Epoch: 550\n",
      "Loss: 0.718463321671\n",
      "Training Accuracy: 93.655\n",
      "Epoch: 600\n",
      "Loss: 0.709274161348\n",
      "Training Accuracy: 94.0616666667\n",
      "Epoch: 650\n",
      "Loss: 0.559566532022\n",
      "Training Accuracy: 94.3733333333\n",
      "Epoch: 700\n",
      "Loss: 0.489877130336\n",
      "Training Accuracy: 94.7933333333\n",
      "Epoch: 750\n",
      "Loss: 0.425940427053\n",
      "Training Accuracy: 95.0166666667\n",
      "Epoch: 800\n",
      "Loss: 0.34739352141\n",
      "Training Accuracy: 95.305\n",
      "Epoch: 850\n",
      "Loss: 0.431862282311\n",
      "Training Accuracy: 95.3666666667\n",
      "Epoch: 900\n",
      "Loss: 0.395349317783\n",
      "Training Accuracy: 95.6583333333\n",
      "Epoch: 950\n",
      "Loss: 0.373968849417\n",
      "Training Accuracy: 95.73\n",
      "Epoch: 1000\n",
      "Loss: 0.341322887189\n",
      "Training Accuracy: 95.8266666667\n",
      "Epoch: 1050\n",
      "Loss: 0.39057407596\n",
      "Training Accuracy: 95.84\n",
      "Epoch: 1100\n",
      "Loss: 0.325764380587\n",
      "Training Accuracy: 95.9033333333\n",
      "Epoch: 1150\n",
      "Loss: 0.358932074767\n",
      "Training Accuracy: 95.9016666667\n",
      "Epoch: 1200\n",
      "Loss: 0.293993914132\n",
      "Training Accuracy: 95.9233333333\n",
      "Epoch: 1250\n",
      "Loss: 0.397621423038\n",
      "Training Accuracy: 95.9166666667\n",
      "Epoch: 1300\n",
      "Loss: 0.351001262354\n",
      "Training Accuracy: 95.9016666667\n",
      "Epoch: 1350\n",
      "Loss: 0.394744553102\n",
      "Training Accuracy: 95.9166666667\n",
      "Epoch: 1400\n",
      "Loss: 0.344930215304\n",
      "Training Accuracy: 95.9166666667\n",
      "Epoch: 1450\n",
      "Loss: 0.366047652159\n",
      "Training Accuracy: 95.9083333333\n",
      "Epoch: 1500\n",
      "Loss: 0.375327638667\n",
      "Training Accuracy: 95.9116666667\n",
      "Epoch: 1550\n",
      "Loss: 0.32001307245\n",
      "Training Accuracy: 95.9116666667\n",
      "Epoch: 1600\n",
      "Loss: 0.336051911114\n",
      "Training Accuracy: 95.9116666667\n",
      "Epoch: 1650\n",
      "Loss: 0.363579856679\n",
      "Training Accuracy: 95.9116666667\n",
      "Epoch: 1700\n",
      "Loss: 0.320958836943\n",
      "Training Accuracy: 95.9116666667\n",
      "Epoch: 1750\n",
      "Loss: 0.319717911777\n",
      "Training Accuracy: 95.9116666667\n",
      "Epoch: 1800\n",
      "Loss: 0.35882563893\n",
      "Training Accuracy: 95.9116666667\n",
      "Epoch: 1850\n",
      "Loss: 0.341738834839\n",
      "Training Accuracy: 95.9116666667\n",
      "Epoch: 1900\n",
      "Loss: 0.356746508018\n",
      "Training Accuracy: 95.9116666667\n",
      "Epoch: 1950\n",
      "Loss: 0.355172712493\n",
      "Training Accuracy: 95.9116666667\n",
      "Epoch: 2000\n",
      "Loss: 0.327672192277\n",
      "Training Accuracy: 95.9116666667\n",
      "Epoch: 2050\n",
      "Loss: 0.360961150197\n",
      "Training Accuracy: 95.9116666667\n",
      "Epoch: 2100\n",
      "Loss: 0.442563853532\n",
      "Training Accuracy: 95.9116666667\n",
      "Epoch: 2150\n",
      "Loss: 0.411928252695\n",
      "Training Accuracy: 95.9116666667\n",
      "Epoch: 2200\n",
      "Loss: 0.287754413473\n",
      "Training Accuracy: 95.9116666667\n",
      "Epoch: 2250\n",
      "Loss: 0.389494207075\n",
      "Training Accuracy: 95.9116666667\n",
      "Epoch: 2300\n",
      "Loss: 0.347057333406\n",
      "Training Accuracy: 95.9116666667\n",
      "Epoch: 2350\n",
      "Loss: 0.400169109853\n",
      "Training Accuracy: 95.9116666667\n",
      "Epoch: 2400\n",
      "Loss: 0.336484556375\n",
      "Training Accuracy: 95.9116666667\n",
      "Epoch: 2450\n",
      "Loss: 0.406371413099\n",
      "Training Accuracy: 95.9116666667\n",
      "Epoch: 2500\n",
      "Loss: 0.371891738577\n",
      "Training Accuracy: 95.9116666667\n",
      "Epoch: 2550\n",
      "Loss: 0.346165407351\n",
      "Training Accuracy: 95.9116666667\n",
      "Epoch: 2600\n",
      "Loss: 0.389820539264\n",
      "Training Accuracy: 95.9116666667\n",
      "Epoch: 2650\n",
      "Loss: 0.379390321669\n",
      "Training Accuracy: 95.9116666667\n",
      "Epoch: 2700\n",
      "Loss: 0.298903213765\n",
      "Training Accuracy: 95.9116666667\n",
      "Epoch: 2750\n",
      "Loss: 0.368965949182\n",
      "Training Accuracy: 95.9116666667\n",
      "Epoch: 2800\n",
      "Loss: 0.401351268399\n",
      "Training Accuracy: 95.9116666667\n",
      "Epoch: 2850\n",
      "Loss: 0.360893522377\n",
      "Training Accuracy: 95.9116666667\n",
      "Epoch: 2900\n",
      "Loss: 0.316551783852\n",
      "Training Accuracy: 95.9116666667\n",
      "Epoch: 2950\n",
      "Loss: 0.326208477163\n",
      "Training Accuracy: 95.9116666667\n",
      "Epoch: 3000\n",
      "Loss: 0.350269826206\n",
      "Training Accuracy: 95.9116666667\n",
      "Epoch: 3050\n",
      "Loss: 0.310296550734\n",
      "Training Accuracy: 95.9116666667\n",
      "Epoch: 3100\n",
      "Loss: 0.358981893773\n",
      "Training Accuracy: 95.9116666667\n",
      "Epoch: 3150\n",
      "Loss: 0.386823418662\n"
     ]
    }
   ],
   "source": [
    "nn = NeuralNetwork(n_output=10,\n",
    "                  n_features=X_train.shape[1],\n",
    "                  n_hidden=100,\n",
    "                  l2=0.1,\n",
    "                  epochs=10000,\n",
    "                  learning_rate=0.001,\n",
    "                  momentum_const=0.5,\n",
    "                  decay_rate=0.00001,\n",
    "                  dropout=True,\n",
    "                  minibatch_size=500, nesterov = True\n",
    "                 )\n",
    "nn.fit(X_train, y_train)\n"
   ]
  },
  {
   "cell_type": "code",
   "execution_count": null,
   "metadata": {
    "collapsed": false,
    "deletable": true,
    "editable": true
   },
   "outputs": [],
   "source": [
    "import sys\n",
    "sys.path.append('utils/')\n",
    "from utils import *"
   ]
  },
  {
   "cell_type": "code",
   "execution_count": null,
   "metadata": {
    "collapsed": false,
    "deletable": true,
    "editable": true
   },
   "outputs": [],
   "source": [
    "train_error, test_error = get_train_test_error(classifier = nn, X = X_train, y = y_train,\n",
    "                                               num_iterations = 1, split = 0.2)\n",
    "print(\"test err: {}\".format(test_error))"
   ]
  },
  {
   "cell_type": "code",
   "execution_count": null,
   "metadata": {
    "collapsed": true,
    "deletable": true,
    "editable": true
   },
   "outputs": [],
   "source": []
  },
  {
   "cell_type": "code",
   "execution_count": null,
   "metadata": {
    "collapsed": false,
    "deletable": true,
    "editable": true
   },
   "outputs": [],
   "source": [
    "# k-fold CV\n",
    "mean_train_error, mean_test_error = cross_validate(classifier=nn, X=X_train, y=y_train, k = 10)"
   ]
  },
  {
   "cell_type": "code",
   "execution_count": null,
   "metadata": {
    "collapsed": false,
    "deletable": true,
    "editable": true
   },
   "outputs": [],
   "source": [
    "# print mean_train_error\n",
    "# print mean_test_error\n",
    "print(train_error)\n",
    "print(test_error)"
   ]
  },
  {
   "cell_type": "code",
   "execution_count": null,
   "metadata": {
    "collapsed": false,
    "deletable": true,
    "editable": true
   },
   "outputs": [],
   "source": []
  },
  {
   "cell_type": "code",
   "execution_count": null,
   "metadata": {
    "collapsed": false,
    "deletable": true,
    "editable": true
   },
   "outputs": [],
   "source": [
    "y_train_pred = nn.predict(X_train)\n",
    "print y_train_pred"
   ]
  },
  {
   "cell_type": "code",
   "execution_count": null,
   "metadata": {
    "collapsed": false,
    "deletable": true,
    "editable": true
   },
   "outputs": [],
   "source": [
    "print y_train.shape[0]\n",
    "print y_train_pred.shape[0]\n",
    "diffs = y_train_pred  - y_train\n",
    "count = 0.\n",
    "for i in range(y_train.shape[0]):\n",
    "    if diffs[i] != 0:\n",
    "        count = count + 1\n",
    "print 100 - count*100/y_train.shape[0]\n",
    "    "
   ]
  },
  {
   "cell_type": "code",
   "execution_count": null,
   "metadata": {
    "collapsed": false,
    "deletable": true,
    "editable": true
   },
   "outputs": [],
   "source": [
    "y_test_pred = nn.predict(X_test)\n",
    "print y_test_pred"
   ]
  },
  {
   "cell_type": "code",
   "execution_count": null,
   "metadata": {
    "collapsed": false,
    "deletable": true,
    "editable": true
   },
   "outputs": [],
   "source": [
    "print y_test_pred.shape[0]\n",
    "print y_test.shape[0]\n",
    "diffs = y_test_pred - y_test\n",
    "mistakes = []\n",
    "count = 0.\n",
    "for i in range(y_test.shape[0]):\n",
    "    if diffs[i] != 0:\n",
    "        count = count + 1\n",
    "        mistakes.append({\"actual\": y_test[i], \"predicted\": y_test_pred[i]})\n",
    "print 100 - count*100/y_test.shape[0]\n",
    "# initialize a data structure where each item will keep track of what mispredictions there were\n",
    "mistake_categories = [(i, {k:0 for k in range(10) if k != i}) for i in range(10)]\n",
    "for mistake in mistakes:\n",
    "    mistake_categories[mistake['actual']][1][mistake['predicted']]+=1\n",
    "\n",
    "for tup in mistake_categories:\n",
    "    for k, v in tup[1].items():\n",
    "        if v == 0: del tup[1][k] # remove keys where no mistakes were found \n",
    "\n",
    "for i in range(len(mistake_categories)): print mistake_categories[i]\n",
    "# tells us our mispredictions - ex: for images with label 2, we mispredicted a 0 twelve times, and mispredicted it as an 8 twenty times. \n",
    "# print [mistakes[i] for i in range(len(mistakes)) if mistakes[i]['actual']==4]\n"
   ]
  },
  {
   "cell_type": "code",
   "execution_count": null,
   "metadata": {
    "collapsed": false,
    "deletable": true,
    "editable": true
   },
   "outputs": [],
   "source": []
  },
  {
   "cell_type": "code",
   "execution_count": null,
   "metadata": {
    "collapsed": true,
    "deletable": true,
    "editable": true
   },
   "outputs": [],
   "source": []
  }
 ],
 "metadata": {
  "kernelspec": {
   "display_name": "Python 2",
   "language": "python",
   "name": "python2"
  },
  "language_info": {
   "codemirror_mode": {
    "name": "ipython",
    "version": 2
   },
   "file_extension": ".py",
   "mimetype": "text/x-python",
   "name": "python",
   "nbconvert_exporter": "python",
   "pygments_lexer": "ipython2",
   "version": "2.7.13"
  }
 },
 "nbformat": 4,
 "nbformat_minor": 0
}
