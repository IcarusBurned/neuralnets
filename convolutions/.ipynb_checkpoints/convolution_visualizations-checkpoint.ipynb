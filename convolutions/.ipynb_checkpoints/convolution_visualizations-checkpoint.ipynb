{
 "cells": [
  {
   "cell_type": "code",
   "execution_count": 14,
   "metadata": {
    "collapsed": true
   },
   "outputs": [],
   "source": [
    "import numpy as np\n",
    "import pylab\n",
    "from scipy import signal as sg"
   ]
  },
  {
   "cell_type": "code",
   "execution_count": 15,
   "metadata": {
    "collapsed": false
   },
   "outputs": [
    {
     "name": "stdout",
     "output_type": "stream",
     "text": [
      "[[-722 -251]\n",
      " [-156 -709]]\n"
     ]
    }
   ],
   "source": [
    "matrix = np.array([[255, 7, 3], [212, 241, 5], [218, 216, 220]])\n",
    "kernel = np.array([[1, -1], [2, -3]])\n",
    "print sg.convolve(matrix, kernel, \"valid\")"
   ]
  },
  {
   "cell_type": "code",
   "execution_count": 29,
   "metadata": {
    "collapsed": true
   },
   "outputs": [],
   "source": [
    "def generate_kaiser_windows(beta = [2, 4, 8, 16, 32]):\n",
    "    for b in beta:\n",
    "        pylab.plot(range(len(np.kaiser(101, b))), np.kaiser(101, b), label = \"beta = \" + str(b))\n",
    "    # add labels to our plot\n",
    "    pylab.xlabel('n')\n",
    "    pylab.ylabel('w_k')\n",
    "    pylab.legend()\n",
    "    pylab.show()"
   ]
  },
  {
   "cell_type": "code",
   "execution_count": 30,
   "metadata": {
    "collapsed": true
   },
   "outputs": [],
   "source": [
    "generate_kaiser_windows([2, 4, 8])"
   ]
  },
  {
   "cell_type": "code",
   "execution_count": 40,
   "metadata": {
    "collapsed": false
   },
   "outputs": [],
   "source": [
    "def smooth_signal(signal, kaiser_window_parameter = 8, window_len = 10):\n",
    "    # convolves kernel over the signal to smoothen it\n",
    "    # returns a filtered version of kernel \n",
    "    sig = np.r_[signal[window_len-1:0:-1], signal, signal[-1:-window_len: -1]]\n",
    "    kaiser_window = np.kaiser(window_len, kaiser_window_parameter)\n",
    "    smoothed = np.convolve(kaiser_window/kaiser_window.sum(), sig, mode = 'valid')\n",
    "    return smoothed[5:len(smoothed)-5]"
   ]
  },
  {
   "cell_type": "code",
   "execution_count": 46,
   "metadata": {
    "collapsed": false
   },
   "outputs": [],
   "source": [
    "# random data generation\n",
    "# y = np.random.random(100)*100 \n",
    "# for i in range(100):\n",
    "#  y[i]=y[i]+i**((150-i)/80.0) # modifies the trend\n",
    "\n",
    "# # smoothing the data\n",
    "# pylab.figure(1)\n",
    "# pylab.plot(y,'-k',label=\"original signal\",alpha=.3)\n",
    "# for b in beta:\n",
    "#  yy = smooth_signal(y,b) \n",
    "#  pylab.plot(yy,label=\"filtered (beta = \"+str(b)+\")\")\n",
    "# pylab.legend()\n",
    "# pylab.show()\n",
    "\n",
    "# create a random signal \n",
    "y = np.random.random(100) * 100\n",
    "pylab.figure(1)\n",
    "pylab.plot(y, '-k', label = \"original signal\", alpha = 0.3)\n",
    "yy = smooth_signal(y, 1)\n",
    "pylab.plot(yy, label = \"smoothed with beta parameter = 8\")\n",
    "pylab.legend()\n",
    "pylab.show()"
   ]
  },
  {
   "cell_type": "code",
   "execution_count": null,
   "metadata": {
    "collapsed": true
   },
   "outputs": [],
   "source": []
  },
  {
   "cell_type": "code",
   "execution_count": null,
   "metadata": {
    "collapsed": true
   },
   "outputs": [],
   "source": []
  },
  {
   "cell_type": "code",
   "execution_count": null,
   "metadata": {
    "collapsed": true
   },
   "outputs": [],
   "source": []
  },
  {
   "cell_type": "code",
   "execution_count": null,
   "metadata": {
    "collapsed": true
   },
   "outputs": [],
   "source": []
  },
  {
   "cell_type": "code",
   "execution_count": null,
   "metadata": {
    "collapsed": true
   },
   "outputs": [],
   "source": []
  }
 ],
 "metadata": {
  "kernelspec": {
   "display_name": "Python 2",
   "language": "python",
   "name": "python2"
  },
  "language_info": {
   "codemirror_mode": {
    "name": "ipython",
    "version": 2
   },
   "file_extension": ".py",
   "mimetype": "text/x-python",
   "name": "python",
   "nbconvert_exporter": "python",
   "pygments_lexer": "ipython2",
   "version": "2.7.11"
  }
 },
 "nbformat": 4,
 "nbformat_minor": 0
}
